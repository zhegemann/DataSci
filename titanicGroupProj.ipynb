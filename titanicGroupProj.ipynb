{
 "cells": [
  {
   "cell_type": "markdown",
   "id": "1bd680d6",
   "metadata": {
    "papermill": {
     "duration": 0.02443,
     "end_time": "2021-11-21T16:29:43.800033",
     "exception": false,
     "start_time": "2021-11-21T16:29:43.775603",
     "status": "completed"
    },
    "tags": []
   },
   "source": [
    "**I) Import Data Sets to Kaggle Coding Envrionment**"
   ]
  },
  {
   "cell_type": "code",
   "execution_count": 1,
   "id": "6cc4ba51",
   "metadata": {
    "execution": {
     "iopub.execute_input": "2021-11-21T16:29:43.848204Z",
     "iopub.status.busy": "2021-11-21T16:29:43.846407Z",
     "iopub.status.idle": "2021-11-21T16:29:45.646334Z",
     "shell.execute_reply": "2021-11-21T16:29:45.646829Z",
     "shell.execute_reply.started": "2021-11-21T16:20:20.670780Z"
    },
    "papermill": {
     "duration": 1.826084,
     "end_time": "2021-11-21T16:29:45.647161",
     "exception": false,
     "start_time": "2021-11-21T16:29:43.821077",
     "status": "completed"
    },
    "tags": []
   },
   "outputs": [
    {
     "name": "stdout",
     "output_type": "stream",
     "text": [
      "/kaggle/input/titanic/train.csv\n",
      "/kaggle/input/titanic/test.csv\n",
      "/kaggle/input/titanic/gender_submission.csv\n"
     ]
    }
   ],
   "source": [
    "import numpy as np \n",
    "import pandas as pd \n",
    "import os\n",
    "for dirname, _, filenames in os.walk('/kaggle/input'):\n",
    "    for filename in filenames:\n",
    "        print(os.path.join(dirname, filename))\n",
    "import statsmodels.api as sm\n",
    "import statsmodels.formula.api as smf\n",
    "from statsmodels.formula.api import glm\n",
    "import seaborn as sns\n",
    "%matplotlib inline\n",
    "from matplotlib import pyplot as plt\n",
    "from matplotlib import style\n",
    "from sklearn.metrics import accuracy_score"
   ]
  },
  {
   "cell_type": "code",
   "execution_count": 2,
   "id": "ea4e7e46",
   "metadata": {
    "execution": {
     "iopub.execute_input": "2021-11-21T16:29:45.694081Z",
     "iopub.status.busy": "2021-11-21T16:29:45.693438Z",
     "iopub.status.idle": "2021-11-21T16:29:45.727437Z",
     "shell.execute_reply": "2021-11-21T16:29:45.727940Z",
     "shell.execute_reply.started": "2021-11-21T16:20:20.690039Z"
    },
    "papermill": {
     "duration": 0.059096,
     "end_time": "2021-11-21T16:29:45.728121",
     "exception": false,
     "start_time": "2021-11-21T16:29:45.669025",
     "status": "completed"
    },
    "tags": []
   },
   "outputs": [
    {
     "name": "stdout",
     "output_type": "stream",
     "text": [
      "891\n"
     ]
    }
   ],
   "source": [
    "# creates a pandas dataframe from the kaggle input\n",
    "train_data = pd.read_csv(\"/kaggle/input/titanic/train.csv\")\n",
    "train_data.head()\n",
    "\n",
    "test_data = pd.read_csv(\"/kaggle/input/titanic/test.csv\")\n",
    "\n",
    "print(train_data.PassengerId.nunique())"
   ]
  },
  {
   "cell_type": "markdown",
   "id": "7ffae88d",
   "metadata": {
    "papermill": {
     "duration": 0.02201,
     "end_time": "2021-11-21T16:29:45.772026",
     "exception": false,
     "start_time": "2021-11-21T16:29:45.750016",
     "status": "completed"
    },
    "tags": []
   },
   "source": [
    "**II) Data Cleaning**"
   ]
  },
  {
   "cell_type": "code",
   "execution_count": 3,
   "id": "049c9d09",
   "metadata": {
    "execution": {
     "iopub.execute_input": "2021-11-21T16:29:45.818808Z",
     "iopub.status.busy": "2021-11-21T16:29:45.818177Z",
     "iopub.status.idle": "2021-11-21T16:29:45.831388Z",
     "shell.execute_reply": "2021-11-21T16:29:45.831883Z",
     "shell.execute_reply.started": "2021-11-21T16:20:20.708803Z"
    },
    "papermill": {
     "duration": 0.03835,
     "end_time": "2021-11-21T16:29:45.832043",
     "exception": false,
     "start_time": "2021-11-21T16:29:45.793693",
     "status": "completed"
    },
    "tags": []
   },
   "outputs": [
    {
     "name": "stdout",
     "output_type": "stream",
     "text": [
      "0\n",
      "0\n"
     ]
    }
   ],
   "source": [
    "# Finds the duplicates in the train data set and prints them out \n",
    "print(train_data.duplicated().sum())\n",
    "\n",
    "# Finds the duplicates in the test data set and prints them out \n",
    "print(test_data.duplicated().sum())"
   ]
  },
  {
   "cell_type": "code",
   "execution_count": 4,
   "id": "233edde8",
   "metadata": {
    "execution": {
     "iopub.execute_input": "2021-11-21T16:29:45.879898Z",
     "iopub.status.busy": "2021-11-21T16:29:45.879289Z",
     "iopub.status.idle": "2021-11-21T16:29:45.895352Z",
     "shell.execute_reply": "2021-11-21T16:29:45.895904Z",
     "shell.execute_reply.started": "2021-11-21T16:20:20.728624Z"
    },
    "papermill": {
     "duration": 0.041528,
     "end_time": "2021-11-21T16:29:45.896061",
     "exception": false,
     "start_time": "2021-11-21T16:29:45.854533",
     "status": "completed"
    },
    "tags": []
   },
   "outputs": [
    {
     "name": "stdout",
     "output_type": "stream",
     "text": [
      "3\n",
      "Index(['Age', 'Cabin', 'Embarked'], dtype='object')\n"
     ]
    },
    {
     "data": {
      "text/plain": [
       "PassengerId      0\n",
       "Survived         0\n",
       "Pclass           0\n",
       "Name             0\n",
       "Sex              0\n",
       "Age            177\n",
       "SibSp            0\n",
       "Parch            0\n",
       "Ticket           0\n",
       "Fare             0\n",
       "Cabin          687\n",
       "Embarked         2\n",
       "dtype: int64"
      ]
     },
     "execution_count": 4,
     "metadata": {},
     "output_type": "execute_result"
    }
   ],
   "source": [
    "# Shows the number of columns in train data with missing values,\n",
    "# lists those columns, and then how many missing values per column\n",
    "print(len(train_data.columns[train_data.isnull().any()]))\n",
    "print(train_data.columns[train_data.isnull().any()])\n",
    "train_data.isnull().sum()"
   ]
  },
  {
   "cell_type": "code",
   "execution_count": 5,
   "id": "3794fdff",
   "metadata": {
    "execution": {
     "iopub.execute_input": "2021-11-21T16:29:45.948412Z",
     "iopub.status.busy": "2021-11-21T16:29:45.947715Z",
     "iopub.status.idle": "2021-11-21T16:29:45.959599Z",
     "shell.execute_reply": "2021-11-21T16:29:45.960194Z",
     "shell.execute_reply.started": "2021-11-21T16:20:20.749998Z"
    },
    "papermill": {
     "duration": 0.041659,
     "end_time": "2021-11-21T16:29:45.960359",
     "exception": false,
     "start_time": "2021-11-21T16:29:45.918700",
     "status": "completed"
    },
    "tags": []
   },
   "outputs": [
    {
     "name": "stdout",
     "output_type": "stream",
     "text": [
      "1\n",
      "Index(['Cabin'], dtype='object')\n"
     ]
    },
    {
     "data": {
      "text/plain": [
       "PassengerId      0\n",
       "Survived         0\n",
       "Pclass           0\n",
       "Name             0\n",
       "Sex              0\n",
       "Age              0\n",
       "SibSp            0\n",
       "Parch            0\n",
       "Ticket           0\n",
       "Fare             0\n",
       "Cabin          687\n",
       "Embarked         0\n",
       "dtype: int64"
      ]
     },
     "execution_count": 5,
     "metadata": {},
     "output_type": "execute_result"
    }
   ],
   "source": [
    "# Replaces missing data in the train data Age column with the median age - \n",
    "# reduces influence of the right-skewed data\n",
    "train_data['Age'] = train_data['Age'].replace(np.NAN, train_data['Age'].median())\n",
    "# Replaces missing data in the Embarked column with the mode Embarked - 'S'\n",
    "train_data['Embarked'] = train_data['Embarked'].replace(np.NAN, 'S')\n",
    "\n",
    "print(len(train_data.columns[train_data.isnull().any()]))\n",
    "print(train_data.columns[train_data.isnull().any()])\n",
    "train_data.isnull().sum()\n"
   ]
  },
  {
   "cell_type": "code",
   "execution_count": 6,
   "id": "cd0e3982",
   "metadata": {
    "execution": {
     "iopub.execute_input": "2021-11-21T16:29:46.016765Z",
     "iopub.status.busy": "2021-11-21T16:29:46.015776Z",
     "iopub.status.idle": "2021-11-21T16:29:46.030069Z",
     "shell.execute_reply": "2021-11-21T16:29:46.030976Z",
     "shell.execute_reply.started": "2021-11-21T16:20:20.776258Z"
    },
    "papermill": {
     "duration": 0.047149,
     "end_time": "2021-11-21T16:29:46.031231",
     "exception": false,
     "start_time": "2021-11-21T16:29:45.984082",
     "status": "completed"
    },
    "tags": []
   },
   "outputs": [
    {
     "name": "stdout",
     "output_type": "stream",
     "text": [
      "3\n",
      "Index(['Age', 'Fare', 'Cabin'], dtype='object')\n"
     ]
    },
    {
     "data": {
      "text/plain": [
       "PassengerId      0\n",
       "Pclass           0\n",
       "Name             0\n",
       "Sex              0\n",
       "Age             86\n",
       "SibSp            0\n",
       "Parch            0\n",
       "Ticket           0\n",
       "Fare             1\n",
       "Cabin          327\n",
       "Embarked         0\n",
       "dtype: int64"
      ]
     },
     "execution_count": 6,
     "metadata": {},
     "output_type": "execute_result"
    }
   ],
   "source": [
    "# Shows the number of columns in test data with missing values,\n",
    "# lists those columns, and then how many missing values per column\n",
    "print(len(test_data.columns[test_data.isnull().any()]))\n",
    "print(test_data.columns[test_data.isnull().any()])\n",
    "test_data.isnull().sum()"
   ]
  },
  {
   "cell_type": "code",
   "execution_count": 7,
   "id": "22eeea1e",
   "metadata": {
    "execution": {
     "iopub.execute_input": "2021-11-21T16:29:46.098846Z",
     "iopub.status.busy": "2021-11-21T16:29:46.098187Z",
     "iopub.status.idle": "2021-11-21T16:29:46.118879Z",
     "shell.execute_reply": "2021-11-21T16:29:46.118387Z",
     "shell.execute_reply.started": "2021-11-21T16:20:20.794783Z"
    },
    "papermill": {
     "duration": 0.053098,
     "end_time": "2021-11-21T16:29:46.119015",
     "exception": false,
     "start_time": "2021-11-21T16:29:46.065917",
     "status": "completed"
    },
    "tags": []
   },
   "outputs": [
    {
     "name": "stdout",
     "output_type": "stream",
     "text": [
      "1\n",
      "Index(['Cabin'], dtype='object')\n"
     ]
    },
    {
     "data": {
      "text/plain": [
       "PassengerId      0\n",
       "Pclass           0\n",
       "Name             0\n",
       "Sex              0\n",
       "Age              0\n",
       "SibSp            0\n",
       "Parch            0\n",
       "Ticket           0\n",
       "Fare             0\n",
       "Cabin          327\n",
       "Embarked         0\n",
       "dtype: int64"
      ]
     },
     "execution_count": 7,
     "metadata": {},
     "output_type": "execute_result"
    }
   ],
   "source": [
    "# Replaces missing data in the test data Age column with the median age - \n",
    "# reduces influence of the right-skewed data\n",
    "test_data['Age'] = test_data['Age'].replace(np.NAN, test_data['Age'].median())\n",
    "# Replaces missing data in the Embarked column with the mode Embarked - 'S'\n",
    "test_data['Embarked'] = test_data['Embarked'].replace(np.NAN, 'S')\n",
    "# Replaces missing data in the Fare column with the median Fare\n",
    "test_data['Fare'] = test_data['Fare'].replace(np.NAN, test_data['Fare'].median())\n",
    "\n",
    "print(len(test_data.columns[test_data.isnull().any()]))\n",
    "print(test_data.columns[test_data.isnull().any()])\n",
    "test_data.isnull().sum()"
   ]
  },
  {
   "cell_type": "markdown",
   "id": "0ee8aa56",
   "metadata": {
    "papermill": {
     "duration": 0.024717,
     "end_time": "2021-11-21T16:29:46.171760",
     "exception": false,
     "start_time": "2021-11-21T16:29:46.147043",
     "status": "completed"
    },
    "tags": []
   },
   "source": [
    "**III) Exploring Data Sets**"
   ]
  },
  {
   "cell_type": "code",
   "execution_count": 8,
   "id": "8006f1d6",
   "metadata": {
    "execution": {
     "iopub.execute_input": "2021-11-21T16:29:46.226371Z",
     "iopub.status.busy": "2021-11-21T16:29:46.225686Z",
     "iopub.status.idle": "2021-11-21T16:29:46.290015Z",
     "shell.execute_reply": "2021-11-21T16:29:46.290754Z",
     "shell.execute_reply.started": "2021-11-21T16:20:20.820040Z"
    },
    "papermill": {
     "duration": 0.093778,
     "end_time": "2021-11-21T16:29:46.290922",
     "exception": false,
     "start_time": "2021-11-21T16:29:46.197144",
     "status": "completed"
    },
    "tags": []
   },
   "outputs": [
    {
     "name": "stdout",
     "output_type": "stream",
     "text": [
      "<class 'pandas.core.frame.DataFrame'>\n",
      "RangeIndex: 891 entries, 0 to 890\n",
      "Data columns (total 12 columns):\n",
      " #   Column       Non-Null Count  Dtype  \n",
      "---  ------       --------------  -----  \n",
      " 0   PassengerId  891 non-null    int64  \n",
      " 1   Survived     891 non-null    int64  \n",
      " 2   Pclass       891 non-null    int64  \n",
      " 3   Name         891 non-null    object \n",
      " 4   Sex          891 non-null    object \n",
      " 5   Age          891 non-null    float64\n",
      " 6   SibSp        891 non-null    int64  \n",
      " 7   Parch        891 non-null    int64  \n",
      " 8   Ticket       891 non-null    object \n",
      " 9   Fare         891 non-null    float64\n",
      " 10  Cabin        204 non-null    object \n",
      " 11  Embarked     891 non-null    object \n",
      "dtypes: float64(2), int64(5), object(5)\n",
      "memory usage: 83.7+ KB\n"
     ]
    },
    {
     "data": {
      "text/html": [
       "<div>\n",
       "<style scoped>\n",
       "    .dataframe tbody tr th:only-of-type {\n",
       "        vertical-align: middle;\n",
       "    }\n",
       "\n",
       "    .dataframe tbody tr th {\n",
       "        vertical-align: top;\n",
       "    }\n",
       "\n",
       "    .dataframe thead th {\n",
       "        text-align: right;\n",
       "    }\n",
       "</style>\n",
       "<table border=\"1\" class=\"dataframe\">\n",
       "  <thead>\n",
       "    <tr style=\"text-align: right;\">\n",
       "      <th></th>\n",
       "      <th>PassengerId</th>\n",
       "      <th>Survived</th>\n",
       "      <th>Pclass</th>\n",
       "      <th>Age</th>\n",
       "      <th>SibSp</th>\n",
       "      <th>Parch</th>\n",
       "      <th>Fare</th>\n",
       "    </tr>\n",
       "  </thead>\n",
       "  <tbody>\n",
       "    <tr>\n",
       "      <th>count</th>\n",
       "      <td>891.000000</td>\n",
       "      <td>891.000000</td>\n",
       "      <td>891.000000</td>\n",
       "      <td>891.000000</td>\n",
       "      <td>891.000000</td>\n",
       "      <td>891.000000</td>\n",
       "      <td>891.000000</td>\n",
       "    </tr>\n",
       "    <tr>\n",
       "      <th>mean</th>\n",
       "      <td>446.000000</td>\n",
       "      <td>0.383838</td>\n",
       "      <td>2.308642</td>\n",
       "      <td>29.361582</td>\n",
       "      <td>0.523008</td>\n",
       "      <td>0.381594</td>\n",
       "      <td>32.204208</td>\n",
       "    </tr>\n",
       "    <tr>\n",
       "      <th>std</th>\n",
       "      <td>257.353842</td>\n",
       "      <td>0.486592</td>\n",
       "      <td>0.836071</td>\n",
       "      <td>13.019697</td>\n",
       "      <td>1.102743</td>\n",
       "      <td>0.806057</td>\n",
       "      <td>49.693429</td>\n",
       "    </tr>\n",
       "    <tr>\n",
       "      <th>min</th>\n",
       "      <td>1.000000</td>\n",
       "      <td>0.000000</td>\n",
       "      <td>1.000000</td>\n",
       "      <td>0.420000</td>\n",
       "      <td>0.000000</td>\n",
       "      <td>0.000000</td>\n",
       "      <td>0.000000</td>\n",
       "    </tr>\n",
       "    <tr>\n",
       "      <th>25%</th>\n",
       "      <td>223.500000</td>\n",
       "      <td>0.000000</td>\n",
       "      <td>2.000000</td>\n",
       "      <td>22.000000</td>\n",
       "      <td>0.000000</td>\n",
       "      <td>0.000000</td>\n",
       "      <td>7.910400</td>\n",
       "    </tr>\n",
       "    <tr>\n",
       "      <th>50%</th>\n",
       "      <td>446.000000</td>\n",
       "      <td>0.000000</td>\n",
       "      <td>3.000000</td>\n",
       "      <td>28.000000</td>\n",
       "      <td>0.000000</td>\n",
       "      <td>0.000000</td>\n",
       "      <td>14.454200</td>\n",
       "    </tr>\n",
       "    <tr>\n",
       "      <th>75%</th>\n",
       "      <td>668.500000</td>\n",
       "      <td>1.000000</td>\n",
       "      <td>3.000000</td>\n",
       "      <td>35.000000</td>\n",
       "      <td>1.000000</td>\n",
       "      <td>0.000000</td>\n",
       "      <td>31.000000</td>\n",
       "    </tr>\n",
       "    <tr>\n",
       "      <th>max</th>\n",
       "      <td>891.000000</td>\n",
       "      <td>1.000000</td>\n",
       "      <td>3.000000</td>\n",
       "      <td>80.000000</td>\n",
       "      <td>8.000000</td>\n",
       "      <td>6.000000</td>\n",
       "      <td>512.329200</td>\n",
       "    </tr>\n",
       "  </tbody>\n",
       "</table>\n",
       "</div>"
      ],
      "text/plain": [
       "       PassengerId    Survived      Pclass         Age       SibSp  \\\n",
       "count   891.000000  891.000000  891.000000  891.000000  891.000000   \n",
       "mean    446.000000    0.383838    2.308642   29.361582    0.523008   \n",
       "std     257.353842    0.486592    0.836071   13.019697    1.102743   \n",
       "min       1.000000    0.000000    1.000000    0.420000    0.000000   \n",
       "25%     223.500000    0.000000    2.000000   22.000000    0.000000   \n",
       "50%     446.000000    0.000000    3.000000   28.000000    0.000000   \n",
       "75%     668.500000    1.000000    3.000000   35.000000    1.000000   \n",
       "max     891.000000    1.000000    3.000000   80.000000    8.000000   \n",
       "\n",
       "            Parch        Fare  \n",
       "count  891.000000  891.000000  \n",
       "mean     0.381594   32.204208  \n",
       "std      0.806057   49.693429  \n",
       "min      0.000000    0.000000  \n",
       "25%      0.000000    7.910400  \n",
       "50%      0.000000   14.454200  \n",
       "75%      0.000000   31.000000  \n",
       "max      6.000000  512.329200  "
      ]
     },
     "execution_count": 8,
     "metadata": {},
     "output_type": "execute_result"
    }
   ],
   "source": [
    "train_data.info()\n",
    "train_data.describe() \n",
    "#From the table below, we know that there are 38.38% passangers survived in train data set. Ages of\n",
    "# passangers range from 0.42 to 80 years old. Let's explore more variables by visualization."
   ]
  },
  {
   "cell_type": "code",
   "execution_count": 9,
   "id": "518beb1d",
   "metadata": {
    "execution": {
     "iopub.execute_input": "2021-11-21T16:29:46.361414Z",
     "iopub.status.busy": "2021-11-21T16:29:46.354788Z",
     "iopub.status.idle": "2021-11-21T16:29:46.701877Z",
     "shell.execute_reply": "2021-11-21T16:29:46.701211Z",
     "shell.execute_reply.started": "2021-11-21T16:20:20.862871Z"
    },
    "papermill": {
     "duration": 0.383439,
     "end_time": "2021-11-21T16:29:46.702022",
     "exception": false,
     "start_time": "2021-11-21T16:29:46.318583",
     "status": "completed"
    },
    "tags": []
   },
   "outputs": [
    {
     "name": "stdout",
     "output_type": "stream",
     "text": [
      "% of first class who survived: 0.6296296296296297\n",
      "% of second class who survived: 0.47282608695652173\n",
      "% of first class who survived: 0.24236252545824846\n"
     ]
    },
    {
     "data": {
      "image/png": "[encoded data removed]",
      "text/plain": [
       "<Figure size 432x288 with 1 Axes>"
      ]
     },
     "metadata": {
      "needs_background": "light"
     },
     "output_type": "display_data"
    }
   ],
   "source": [
    "#Passanger class and survivability \n",
    "sns.barplot(x='Pclass', y='Survived', data=train_data)\n",
    "\n",
    "# Checks for heuristic evidence that passenger class affects survivability\n",
    "firstClass = train_data.loc[train_data.Pclass == 1][\"Survived\"]\n",
    "rate_firstClass = sum(firstClass)/len(firstClass)\n",
    "print(\"% of first class who survived:\", rate_firstClass)\n",
    "\n",
    "secondClass = train_data.loc[train_data.Pclass == 2][\"Survived\"]\n",
    "rate_secondClass = sum(secondClass)/len(secondClass)\n",
    "print(\"% of second class who survived:\", rate_secondClass)\n",
    "\n",
    "thirdClass = train_data.loc[train_data.Pclass == 3][\"Survived\"]\n",
    "rate_thirdClass = sum(thirdClass)/len(thirdClass)\n",
    "print(\"% of first class who survived:\", rate_thirdClass)"
   ]
  },
  {
   "cell_type": "code",
   "execution_count": 10,
   "id": "ca16f5de",
   "metadata": {
    "execution": {
     "iopub.execute_input": "2021-11-21T16:29:46.765104Z",
     "iopub.status.busy": "2021-11-21T16:29:46.764477Z",
     "iopub.status.idle": "2021-11-21T16:29:47.040729Z",
     "shell.execute_reply": "2021-11-21T16:29:47.040221Z",
     "shell.execute_reply.started": "2021-11-21T16:20:21.205106Z"
    },
    "papermill": {
     "duration": 0.311763,
     "end_time": "2021-11-21T16:29:47.040869",
     "exception": false,
     "start_time": "2021-11-21T16:29:46.729106",
     "status": "completed"
    },
    "tags": []
   },
   "outputs": [
    {
     "name": "stdout",
     "output_type": "stream",
     "text": [
      "% of women who survived: 0.7420382165605095\n",
      "% of men who survived: 0.18890814558058924\n"
     ]
    },
    {
     "data": {
      "image/png": "[encoded data removed]",
      "text/plain": [
       "<Figure size 432x288 with 1 Axes>"
      ]
     },
     "metadata": {
      "needs_background": "light"
     },
     "output_type": "display_data"
    }
   ],
   "source": [
    "#Sex and survivability\n",
    "\n",
    "sns.barplot(x='Sex', y='Survived', data=train_data)\n",
    "\n",
    "# Checks for heuristic evidence that passenger sex affects survivability\n",
    "women = train_data.loc[train_data.Sex == 'female'][\"Survived\"]\n",
    "rate_women = sum(women)/len(women)\n",
    "print(\"% of women who survived:\", rate_women)\n",
    "\n",
    "men = train_data.loc[train_data.Sex == 'male'][\"Survived\"]\n",
    "rate_men = sum(men)/len(men)\n",
    "print(\"% of men who survived:\", rate_men)"
   ]
  },
  {
   "cell_type": "code",
   "execution_count": 11,
   "id": "5e0d8ce2",
   "metadata": {
    "execution": {
     "iopub.execute_input": "2021-11-21T16:29:47.104484Z",
     "iopub.status.busy": "2021-11-21T16:29:47.103656Z",
     "iopub.status.idle": "2021-11-21T16:29:47.503832Z",
     "shell.execute_reply": "2021-11-21T16:29:47.503306Z",
     "shell.execute_reply.started": "2021-11-21T16:20:21.500974Z"
    },
    "papermill": {
     "duration": 0.435333,
     "end_time": "2021-11-21T16:29:47.503990",
     "exception": false,
     "start_time": "2021-11-21T16:29:47.068657",
     "status": "completed"
    },
    "tags": []
   },
   "outputs": [
    {
     "name": "stderr",
     "output_type": "stream",
     "text": [
      "/opt/conda/lib/python3.7/site-packages/seaborn/distributions.py:2619: FutureWarning: `distplot` is a deprecated function and will be removed in a future version. Please adapt your code to use either `displot` (a figure-level function with similar flexibility) or `histplot` (an axes-level function for histograms).\n",
      "  warnings.warn(msg, FutureWarning)\n"
     ]
    },
    {
     "data": {
      "image/png": "[encoded data removed]",
      "text/plain": [
       "<Figure size 1152x648 with 1 Axes>"
      ]
     },
     "metadata": {
      "needs_background": "light"
     },
     "output_type": "display_data"
    }
   ],
   "source": [
    "#Age and Survivability\n",
    "# Modify histogram with bins  \n",
    "bins = [1,5,10,15,20,25,30,35,40,45,50,55,60,65,70,75,80] # list\n",
    " \n",
    "plt.figure(figsize=(16,9))\n",
    "sns.set()\n",
    " \n",
    "sns.distplot(train_data[\"Age\"], bins = bins)\n",
    " \n",
    "plt.xticks(bins) # set bins value\n",
    " \n",
    "plt.title(\"Histogram of Age in Train Data\") \n",
    "plt.show()"
   ]
  },
  {
   "cell_type": "code",
   "execution_count": 12,
   "id": "ad05b47f",
   "metadata": {
    "execution": {
     "iopub.execute_input": "2021-11-21T16:29:47.566830Z",
     "iopub.status.busy": "2021-11-21T16:29:47.565851Z",
     "iopub.status.idle": "2021-11-21T16:29:47.574687Z",
     "shell.execute_reply": "2021-11-21T16:29:47.575321Z",
     "shell.execute_reply.started": "2021-11-21T16:20:21.919089Z"
    },
    "papermill": {
     "duration": 0.042017,
     "end_time": "2021-11-21T16:29:47.575482",
     "exception": false,
     "start_time": "2021-11-21T16:29:47.533465",
     "status": "completed"
    },
    "tags": []
   },
   "outputs": [
    {
     "name": "stdout",
     "output_type": "stream",
     "text": [
      "% of kids under 10 who survived: 0.5035971223021583\n",
      "% of elder older than 60 who survived: 0.2692307692307692\n"
     ]
    }
   ],
   "source": [
    "# Checks for heuristic evidence that passengers under 10 survived\n",
    "kids = train_data.loc[train_data.Age <= 18][\"Survived\"]\n",
    "rate_kids = sum(kids)/len(kids)\n",
    "\n",
    "print(\"% of kids under 10 who survived:\", rate_kids)\n",
    "\n",
    "# Checks for heuristic evidence that passengers older than 60 survived\n",
    "old = train_data.loc[train_data.Age >= 60][\"Survived\"]\n",
    "rate_old = sum(old)/len(old)\n",
    "\n",
    "print(\"% of elder older than 60 who survived:\", rate_old)"
   ]
  },
  {
   "cell_type": "code",
   "execution_count": 13,
   "id": "e757d6bb",
   "metadata": {
    "execution": {
     "iopub.execute_input": "2021-11-21T16:29:47.637591Z",
     "iopub.status.busy": "2021-11-21T16:29:47.636622Z",
     "iopub.status.idle": "2021-11-21T16:29:47.651180Z",
     "shell.execute_reply": "2021-11-21T16:29:47.651745Z",
     "shell.execute_reply.started": "2021-11-21T16:20:21.932972Z"
    },
    "papermill": {
     "duration": 0.047107,
     "end_time": "2021-11-21T16:29:47.651905",
     "exception": false,
     "start_time": "2021-11-21T16:29:47.604798",
     "status": "completed"
    },
    "tags": []
   },
   "outputs": [
    {
     "data": {
      "text/html": [
       "<div>\n",
       "<style scoped>\n",
       "    .dataframe tbody tr th:only-of-type {\n",
       "        vertical-align: middle;\n",
       "    }\n",
       "\n",
       "    .dataframe tbody tr th {\n",
       "        vertical-align: top;\n",
       "    }\n",
       "\n",
       "    .dataframe thead th {\n",
       "        text-align: right;\n",
       "    }\n",
       "</style>\n",
       "<table border=\"1\" class=\"dataframe\">\n",
       "  <thead>\n",
       "    <tr style=\"text-align: right;\">\n",
       "      <th></th>\n",
       "      <th>PassengerId</th>\n",
       "      <th>Survived</th>\n",
       "      <th>Pclass</th>\n",
       "      <th>Age</th>\n",
       "      <th>SibSp</th>\n",
       "      <th>Parch</th>\n",
       "      <th>Fare</th>\n",
       "    </tr>\n",
       "  </thead>\n",
       "  <tbody>\n",
       "    <tr>\n",
       "      <th>PassengerId</th>\n",
       "      <td>1.000000</td>\n",
       "      <td>-0.005007</td>\n",
       "      <td>-0.035144</td>\n",
       "      <td>0.034212</td>\n",
       "      <td>-0.057527</td>\n",
       "      <td>-0.001652</td>\n",
       "      <td>0.012658</td>\n",
       "    </tr>\n",
       "    <tr>\n",
       "      <th>Survived</th>\n",
       "      <td>-0.005007</td>\n",
       "      <td>1.000000</td>\n",
       "      <td>-0.338481</td>\n",
       "      <td>-0.064910</td>\n",
       "      <td>-0.035322</td>\n",
       "      <td>0.081629</td>\n",
       "      <td>0.257307</td>\n",
       "    </tr>\n",
       "    <tr>\n",
       "      <th>Pclass</th>\n",
       "      <td>-0.035144</td>\n",
       "      <td>-0.338481</td>\n",
       "      <td>1.000000</td>\n",
       "      <td>-0.339898</td>\n",
       "      <td>0.083081</td>\n",
       "      <td>0.018443</td>\n",
       "      <td>-0.549500</td>\n",
       "    </tr>\n",
       "    <tr>\n",
       "      <th>Age</th>\n",
       "      <td>0.034212</td>\n",
       "      <td>-0.064910</td>\n",
       "      <td>-0.339898</td>\n",
       "      <td>1.000000</td>\n",
       "      <td>-0.233296</td>\n",
       "      <td>-0.172482</td>\n",
       "      <td>0.096688</td>\n",
       "    </tr>\n",
       "    <tr>\n",
       "      <th>SibSp</th>\n",
       "      <td>-0.057527</td>\n",
       "      <td>-0.035322</td>\n",
       "      <td>0.083081</td>\n",
       "      <td>-0.233296</td>\n",
       "      <td>1.000000</td>\n",
       "      <td>0.414838</td>\n",
       "      <td>0.159651</td>\n",
       "    </tr>\n",
       "    <tr>\n",
       "      <th>Parch</th>\n",
       "      <td>-0.001652</td>\n",
       "      <td>0.081629</td>\n",
       "      <td>0.018443</td>\n",
       "      <td>-0.172482</td>\n",
       "      <td>0.414838</td>\n",
       "      <td>1.000000</td>\n",
       "      <td>0.216225</td>\n",
       "    </tr>\n",
       "    <tr>\n",
       "      <th>Fare</th>\n",
       "      <td>0.012658</td>\n",
       "      <td>0.257307</td>\n",
       "      <td>-0.549500</td>\n",
       "      <td>0.096688</td>\n",
       "      <td>0.159651</td>\n",
       "      <td>0.216225</td>\n",
       "      <td>1.000000</td>\n",
       "    </tr>\n",
       "  </tbody>\n",
       "</table>\n",
       "</div>"
      ],
      "text/plain": [
       "             PassengerId  Survived    Pclass       Age     SibSp     Parch  \\\n",
       "PassengerId     1.000000 -0.005007 -0.035144  0.034212 -0.057527 -0.001652   \n",
       "Survived       -0.005007  1.000000 -0.338481 -0.064910 -0.035322  0.081629   \n",
       "Pclass         -0.035144 -0.338481  1.000000 -0.339898  0.083081  0.018443   \n",
       "Age             0.034212 -0.064910 -0.339898  1.000000 -0.233296 -0.172482   \n",
       "SibSp          -0.057527 -0.035322  0.083081 -0.233296  1.000000  0.414838   \n",
       "Parch          -0.001652  0.081629  0.018443 -0.172482  0.414838  1.000000   \n",
       "Fare            0.012658  0.257307 -0.549500  0.096688  0.159651  0.216225   \n",
       "\n",
       "                 Fare  \n",
       "PassengerId  0.012658  \n",
       "Survived     0.257307  \n",
       "Pclass      -0.549500  \n",
       "Age          0.096688  \n",
       "SibSp        0.159651  \n",
       "Parch        0.216225  \n",
       "Fare         1.000000  "
      ]
     },
     "execution_count": 13,
     "metadata": {},
     "output_type": "execute_result"
    }
   ],
   "source": [
    "train_data.corr()"
   ]
  },
  {
   "cell_type": "code",
   "execution_count": 14,
   "id": "138a50d3",
   "metadata": {
    "execution": {
     "iopub.execute_input": "2021-11-21T16:29:47.715567Z",
     "iopub.status.busy": "2021-11-21T16:29:47.714615Z",
     "iopub.status.idle": "2021-11-21T16:29:48.556769Z",
     "shell.execute_reply": "2021-11-21T16:29:48.557410Z",
     "shell.execute_reply.started": "2021-11-21T16:20:21.955793Z"
    },
    "papermill": {
     "duration": 0.875753,
     "end_time": "2021-11-21T16:29:48.557600",
     "exception": false,
     "start_time": "2021-11-21T16:29:47.681847",
     "status": "completed"
    },
    "tags": []
   },
   "outputs": [
    {
     "name": "stderr",
     "output_type": "stream",
     "text": [
      "/opt/conda/lib/python3.7/site-packages/seaborn/distributions.py:2619: FutureWarning: `distplot` is a deprecated function and will be removed in a future version. Please adapt your code to use either `displot` (a figure-level function with similar flexibility) or `histplot` (an axes-level function for histograms).\n",
      "  warnings.warn(msg, FutureWarning)\n"
     ]
    },
    {
     "data": {
      "image/png": "[encoded data removed]",
      "text/plain": [
       "<Figure size 720x288 with 2 Axes>"
      ]
     },
     "metadata": {},
     "output_type": "display_data"
    }
   ],
   "source": [
    "survived = 'survived'\n",
    "not_survived = 'not survived'\n",
    "fig, axes = plt.subplots(nrows=1, ncols=2,figsize=(10, 4))\n",
    "women = train_data[train_data['Sex']=='female']\n",
    "men = train_data[train_data['Sex']=='male']\n",
    "ax = sns.distplot(women[women['Survived']==1].Age, bins=18, label = survived, ax = axes[0], kde =False)\n",
    "ax = sns.distplot(women[women['Survived']==0].Age, bins=40, label = not_survived, ax = axes[0], kde =False)\n",
    "ax.legend()\n",
    "ax.set_title('Female')\n",
    "ax = sns.distplot(men[men['Survived']==1].Age, bins=18, label = survived, ax = axes[1], kde = False)\n",
    "ax = sns.distplot(men[men['Survived']==0].Age, bins=40, label = not_survived, ax = axes[1], kde = False)\n",
    "ax.legend()\n",
    "_ = ax.set_title('Male')"
   ]
  },
  {
   "cell_type": "code",
   "execution_count": 15,
   "id": "8e520615",
   "metadata": {
    "execution": {
     "iopub.execute_input": "2021-11-21T16:29:48.627184Z",
     "iopub.status.busy": "2021-11-21T16:29:48.626479Z",
     "iopub.status.idle": "2021-11-21T16:29:49.251832Z",
     "shell.execute_reply": "2021-11-21T16:29:49.252375Z",
     "shell.execute_reply.started": "2021-11-21T16:20:22.838739Z"
    },
    "papermill": {
     "duration": 0.663583,
     "end_time": "2021-11-21T16:29:49.252568",
     "exception": false,
     "start_time": "2021-11-21T16:29:48.588985",
     "status": "completed"
    },
    "tags": []
   },
   "outputs": [
    {
     "data": {
      "text/plain": [
       "<seaborn.axisgrid.FacetGrid at 0x7fb31f773210>"
      ]
     },
     "execution_count": 15,
     "metadata": {},
     "output_type": "execute_result"
    },
    {
     "data": {
      "image/png": "[encoded data removed]",
      "text/plain": [
       "<Figure size 406.6x360 with 1 Axes>"
      ]
     },
     "metadata": {},
     "output_type": "display_data"
    }
   ],
   "source": [
    "sns.catplot(x=\"Sex\", y=\"Survived\", hue=\"Pclass\", kind=\"bar\", data=train_data)"
   ]
  },
  {
   "cell_type": "code",
   "execution_count": 16,
   "id": "54e3cef4",
   "metadata": {
    "execution": {
     "iopub.execute_input": "2021-11-21T16:29:49.329190Z",
     "iopub.status.busy": "2021-11-21T16:29:49.328474Z",
     "iopub.status.idle": "2021-11-21T16:29:49.343806Z",
     "shell.execute_reply": "2021-11-21T16:29:49.344312Z",
     "shell.execute_reply.started": "2021-11-21T16:20:23.405668Z"
    },
    "papermill": {
     "duration": 0.058903,
     "end_time": "2021-11-21T16:29:49.344492",
     "exception": false,
     "start_time": "2021-11-21T16:29:49.285589",
     "status": "completed"
    },
    "tags": []
   },
   "outputs": [
    {
     "data": {
      "text/html": [
       "<div>\n",
       "<style scoped>\n",
       "    .dataframe tbody tr th:only-of-type {\n",
       "        vertical-align: middle;\n",
       "    }\n",
       "\n",
       "    .dataframe tbody tr th {\n",
       "        vertical-align: top;\n",
       "    }\n",
       "\n",
       "    .dataframe thead th {\n",
       "        text-align: right;\n",
       "    }\n",
       "</style>\n",
       "<table border=\"1\" class=\"dataframe\">\n",
       "  <thead>\n",
       "    <tr style=\"text-align: right;\">\n",
       "      <th></th>\n",
       "      <th>PassengerId</th>\n",
       "      <th>Survived</th>\n",
       "      <th>Pclass</th>\n",
       "      <th>Name</th>\n",
       "      <th>Sex</th>\n",
       "      <th>Age</th>\n",
       "      <th>SibSp</th>\n",
       "      <th>Parch</th>\n",
       "      <th>Ticket</th>\n",
       "      <th>Fare</th>\n",
       "      <th>Cabin</th>\n",
       "      <th>Embarked</th>\n",
       "    </tr>\n",
       "  </thead>\n",
       "  <tbody>\n",
       "    <tr>\n",
       "      <th>0</th>\n",
       "      <td>1</td>\n",
       "      <td>0</td>\n",
       "      <td>3</td>\n",
       "      <td>Braund, Mr. Owen Harris</td>\n",
       "      <td>0</td>\n",
       "      <td>22.0</td>\n",
       "      <td>1</td>\n",
       "      <td>0</td>\n",
       "      <td>A/5 21171</td>\n",
       "      <td>7.2500</td>\n",
       "      <td>NaN</td>\n",
       "      <td>0</td>\n",
       "    </tr>\n",
       "    <tr>\n",
       "      <th>1</th>\n",
       "      <td>2</td>\n",
       "      <td>1</td>\n",
       "      <td>1</td>\n",
       "      <td>Cumings, Mrs. John Bradley (Florence Briggs Th...</td>\n",
       "      <td>1</td>\n",
       "      <td>38.0</td>\n",
       "      <td>1</td>\n",
       "      <td>0</td>\n",
       "      <td>PC 17599</td>\n",
       "      <td>71.2833</td>\n",
       "      <td>C85</td>\n",
       "      <td>1</td>\n",
       "    </tr>\n",
       "    <tr>\n",
       "      <th>2</th>\n",
       "      <td>3</td>\n",
       "      <td>1</td>\n",
       "      <td>3</td>\n",
       "      <td>Heikkinen, Miss. Laina</td>\n",
       "      <td>1</td>\n",
       "      <td>26.0</td>\n",
       "      <td>0</td>\n",
       "      <td>0</td>\n",
       "      <td>STON/O2. 3101282</td>\n",
       "      <td>7.9250</td>\n",
       "      <td>NaN</td>\n",
       "      <td>0</td>\n",
       "    </tr>\n",
       "    <tr>\n",
       "      <th>3</th>\n",
       "      <td>4</td>\n",
       "      <td>1</td>\n",
       "      <td>1</td>\n",
       "      <td>Futrelle, Mrs. Jacques Heath (Lily May Peel)</td>\n",
       "      <td>1</td>\n",
       "      <td>35.0</td>\n",
       "      <td>1</td>\n",
       "      <td>0</td>\n",
       "      <td>113803</td>\n",
       "      <td>53.1000</td>\n",
       "      <td>C123</td>\n",
       "      <td>0</td>\n",
       "    </tr>\n",
       "    <tr>\n",
       "      <th>4</th>\n",
       "      <td>5</td>\n",
       "      <td>0</td>\n",
       "      <td>3</td>\n",
       "      <td>Allen, Mr. William Henry</td>\n",
       "      <td>0</td>\n",
       "      <td>35.0</td>\n",
       "      <td>0</td>\n",
       "      <td>0</td>\n",
       "      <td>373450</td>\n",
       "      <td>8.0500</td>\n",
       "      <td>NaN</td>\n",
       "      <td>0</td>\n",
       "    </tr>\n",
       "  </tbody>\n",
       "</table>\n",
       "</div>"
      ],
      "text/plain": [
       "   PassengerId  Survived  Pclass  \\\n",
       "0            1         0       3   \n",
       "1            2         1       1   \n",
       "2            3         1       3   \n",
       "3            4         1       1   \n",
       "4            5         0       3   \n",
       "\n",
       "                                                Name  Sex   Age  SibSp  Parch  \\\n",
       "0                            Braund, Mr. Owen Harris    0  22.0      1      0   \n",
       "1  Cumings, Mrs. John Bradley (Florence Briggs Th...    1  38.0      1      0   \n",
       "2                             Heikkinen, Miss. Laina    1  26.0      0      0   \n",
       "3       Futrelle, Mrs. Jacques Heath (Lily May Peel)    1  35.0      1      0   \n",
       "4                           Allen, Mr. William Henry    0  35.0      0      0   \n",
       "\n",
       "             Ticket     Fare Cabin  Embarked  \n",
       "0         A/5 21171   7.2500   NaN         0  \n",
       "1          PC 17599  71.2833   C85         1  \n",
       "2  STON/O2. 3101282   7.9250   NaN         0  \n",
       "3            113803  53.1000  C123         0  \n",
       "4            373450   8.0500   NaN         0  "
      ]
     },
     "execution_count": 16,
     "metadata": {},
     "output_type": "execute_result"
    }
   ],
   "source": [
    "# Embarked and survivability\n",
    "# convert Embarked to a numerical variable\n",
    "ports = {\"S\": 0, \"C\": 1, \"Q\": 2}\n",
    "data = [train_data, test_data]\n",
    "\n",
    "for dataset in data:\n",
    "    dataset['Embarked'] = dataset['Embarked'].map(ports)\n",
    "\n",
    "# Coverting Sex into a numerical variable\n",
    "genders = {\"male\": 0, \"female\": 1}\n",
    "data = [train_data, test_data]\n",
    "\n",
    "for dataset in data:\n",
    "    dataset['Sex'] = dataset['Sex'].map(genders)\n",
    "    \n",
    "# display updated DataFrame\n",
    "train_data.head()"
   ]
  },
  {
   "cell_type": "markdown",
   "id": "e52de0d8",
   "metadata": {
    "papermill": {
     "duration": 0.033271,
     "end_time": "2021-11-21T16:29:49.411763",
     "exception": false,
     "start_time": "2021-11-21T16:29:49.378492",
     "status": "completed"
    },
    "tags": []
   },
   "source": [
    "**IV)Multivariable Logistic Regresssion Model**"
   ]
  },
  {
   "cell_type": "code",
   "execution_count": 17,
   "id": "54adb27d",
   "metadata": {
    "execution": {
     "iopub.execute_input": "2021-11-21T16:29:49.482299Z",
     "iopub.status.busy": "2021-11-21T16:29:49.481574Z",
     "iopub.status.idle": "2021-11-21T16:29:49.519544Z",
     "shell.execute_reply": "2021-11-21T16:29:49.520461Z",
     "shell.execute_reply.started": "2021-11-21T16:20:23.434542Z"
    },
    "papermill": {
     "duration": 0.075231,
     "end_time": "2021-11-21T16:29:49.520678",
     "exception": false,
     "start_time": "2021-11-21T16:29:49.445447",
     "status": "completed"
    },
    "tags": []
   },
   "outputs": [
    {
     "name": "stdout",
     "output_type": "stream",
     "text": [
      "                 Generalized Linear Model Regression Results                  \n",
      "==============================================================================\n",
      "Dep. Variable:               Survived   No. Observations:                  891\n",
      "Model:                            GLM   Df Residuals:                      883\n",
      "Model Family:                Binomial   Df Model:                            7\n",
      "Link Function:                  logit   Scale:                          1.0000\n",
      "Method:                          IRLS   Log-Likelihood:                -393.13\n",
      "Date:                Sun, 21 Nov 2021   Deviance:                       786.26\n",
      "Time:                        16:29:49   Pearson chi2:                     910.\n",
      "No. Iterations:                     5                                         \n",
      "Covariance Type:            nonrobust                                         \n",
      "==============================================================================\n",
      "                 coef    std err          z      P>|z|      [0.025      0.975]\n",
      "------------------------------------------------------------------------------\n",
      "Intercept      2.1891      0.479      4.565      0.000       1.249       3.129\n",
      "Pclass        -1.1227      0.141     -7.940      0.000      -1.400      -0.846\n",
      "Fare           0.0022      0.002      0.944      0.345      -0.002       0.007\n",
      "Age           -0.0395      0.008     -5.063      0.000      -0.055      -0.024\n",
      "Sex            2.7169      0.199     13.619      0.000       2.326       3.108\n",
      "SibSp         -0.3293      0.109     -3.030      0.002      -0.542      -0.116\n",
      "Parch         -0.0852      0.118     -0.722      0.470      -0.317       0.146\n",
      "Embarked       0.2433      0.142      1.714      0.086      -0.035       0.521\n",
      "==============================================================================\n"
     ]
    }
   ],
   "source": [
    "# Model 1: Using all numerical data in our data set.\n",
    "model_GLM_1 = glm(formula = 'Survived ~ Pclass + Fare + Age + Sex + SibSp + Parch + Embarked ', data = train_data, family = sm.families.Binomial()).fit()\n",
    "print(model_GLM_1.summary())"
   ]
  },
  {
   "cell_type": "code",
   "execution_count": 18,
   "id": "f6efb6b1",
   "metadata": {
    "execution": {
     "iopub.execute_input": "2021-11-21T16:29:49.591462Z",
     "iopub.status.busy": "2021-11-21T16:29:49.590788Z",
     "iopub.status.idle": "2021-11-21T16:29:49.603855Z",
     "shell.execute_reply": "2021-11-21T16:29:49.604395Z",
     "shell.execute_reply.started": "2021-11-21T16:20:23.468320Z"
    },
    "papermill": {
     "duration": 0.049488,
     "end_time": "2021-11-21T16:29:49.604566",
     "exception": false,
     "start_time": "2021-11-21T16:29:49.555078",
     "status": "completed"
    },
    "tags": []
   },
   "outputs": [],
   "source": [
    "# Uses the model from Attempt 2 on our test data to predict survivability\n",
    "model_GLM_1.predict(exog = test_data)\n",
    "train_data['fitted'] = model_GLM_1.fittedvalues.values"
   ]
  },
  {
   "cell_type": "code",
   "execution_count": 19,
   "id": "3cc2efb9",
   "metadata": {
    "execution": {
     "iopub.execute_input": "2021-11-21T16:29:49.675648Z",
     "iopub.status.busy": "2021-11-21T16:29:49.673045Z",
     "iopub.status.idle": "2021-11-21T16:29:49.688204Z",
     "shell.execute_reply": "2021-11-21T16:29:49.688934Z",
     "shell.execute_reply.started": "2021-11-21T16:20:23.485100Z"
    },
    "papermill": {
     "duration": 0.051639,
     "end_time": "2021-11-21T16:29:49.689180",
     "exception": false,
     "start_time": "2021-11-21T16:29:49.637541",
     "status": "completed"
    },
    "tags": []
   },
   "outputs": [
    {
     "name": "stdout",
     "output_type": "stream",
     "text": [
      "     PassengerId  Survived  Pclass  \\\n",
      "0              1         0       3   \n",
      "1              2         1       1   \n",
      "2              3         1       3   \n",
      "3              4         1       1   \n",
      "4              5         0       3   \n",
      "..           ...       ...     ...   \n",
      "886          887         0       2   \n",
      "887          888         1       1   \n",
      "888          889         0       3   \n",
      "889          890         1       1   \n",
      "890          891         0       3   \n",
      "\n",
      "                                                  Name  Sex   Age  SibSp  \\\n",
      "0                              Braund, Mr. Owen Harris    0  22.0      1   \n",
      "1    Cumings, Mrs. John Bradley (Florence Briggs Th...    1  38.0      1   \n",
      "2                               Heikkinen, Miss. Laina    1  26.0      0   \n",
      "3         Futrelle, Mrs. Jacques Heath (Lily May Peel)    1  35.0      1   \n",
      "4                             Allen, Mr. William Henry    0  35.0      0   \n",
      "..                                                 ...  ...   ...    ...   \n",
      "886                              Montvila, Rev. Juozas    0  27.0      0   \n",
      "887                       Graham, Miss. Margaret Edith    1  19.0      0   \n",
      "888           Johnston, Miss. Catherine Helen \"Carrie\"    1  28.0      1   \n",
      "889                              Behr, Mr. Karl Howell    0  26.0      0   \n",
      "890                                Dooley, Mr. Patrick    0  32.0      0   \n",
      "\n",
      "     Parch            Ticket     Fare Cabin  Embarked    fitted  PredSurv  \n",
      "0        0         A/5 21171   7.2500   NaN         0  0.086184         0  \n",
      "1        0          PC 17599  71.2833   C85         1  0.913354         1  \n",
      "2        0  STON/O2. 3101282   7.9250   NaN         0  0.629144         1  \n",
      "3        0            113803  53.1000  C123         0  0.899343         1  \n",
      "4        0            373450   8.0500   NaN         0  0.072862         0  \n",
      "..     ...               ...      ...   ...       ...       ...       ...  \n",
      "886      0            211536  13.0000   NaN         0  0.250903         0  \n",
      "887      0            112053  30.0000   B42         0  0.956880         1  \n",
      "888      2        W./C. 6607  23.4500   NaN         0  0.496104         1  \n",
      "889      0            111369  30.0000  C148         1  0.586525         1  \n",
      "890      0            370376   7.7500   NaN         2  0.125747         0  \n",
      "\n",
      "[891 rows x 14 columns]\n"
     ]
    }
   ],
   "source": [
    "# Creates a cutoff for survivability for training data\n",
    "cutoff = 0.4\n",
    "train_data['PredSurv'] = np.where(train_data['fitted'] > cutoff, 1, 0)\n",
    "print(train_data)"
   ]
  },
  {
   "cell_type": "code",
   "execution_count": 20,
   "id": "fbc50ee8",
   "metadata": {
    "execution": {
     "iopub.execute_input": "2021-11-21T16:29:49.760885Z",
     "iopub.status.busy": "2021-11-21T16:29:49.760266Z",
     "iopub.status.idle": "2021-11-21T16:29:49.781870Z",
     "shell.execute_reply": "2021-11-21T16:29:49.782423Z",
     "shell.execute_reply.started": "2021-11-21T16:20:23.504805Z"
    },
    "papermill": {
     "duration": 0.05861,
     "end_time": "2021-11-21T16:29:49.782588",
     "exception": false,
     "start_time": "2021-11-21T16:29:49.723978",
     "status": "completed"
    },
    "tags": []
   },
   "outputs": [],
   "source": [
    "model_GLM_1.predict(test_data)\n",
    "test_data['fitted'] = model_GLM_1.predict(test_data)\n",
    "# Creates a cutoff for survivability for test data\n",
    "cutoff = 0.4\n",
    "test_data['PredSurv'] = np.where(test_data['fitted'] > cutoff, 1, 0)"
   ]
  },
  {
   "cell_type": "code",
   "execution_count": 21,
   "id": "0078d820",
   "metadata": {
    "execution": {
     "iopub.execute_input": "2021-11-21T16:29:49.853462Z",
     "iopub.status.busy": "2021-11-21T16:29:49.852828Z",
     "iopub.status.idle": "2021-11-21T16:29:49.859707Z",
     "shell.execute_reply": "2021-11-21T16:29:49.859171Z",
     "shell.execute_reply.started": "2021-11-21T16:21:04.603396Z"
    },
    "papermill": {
     "duration": 0.043066,
     "end_time": "2021-11-21T16:29:49.859852",
     "exception": false,
     "start_time": "2021-11-21T16:29:49.816786",
     "status": "completed"
    },
    "tags": []
   },
   "outputs": [
    {
     "name": "stdout",
     "output_type": "stream",
     "text": [
      "0.7890011223344556\n"
     ]
    }
   ],
   "source": [
    "# Accuracy Score Calculation \n",
    "comparison_column = np.where(train_data['PredSurv'] == train_data['Survived'], True, False)\n",
    "accuracy_score_1 = comparison_column.sum() / train_data.PassengerId.nunique()\n",
    "print(accuracy_score_1)"
   ]
  },
  {
   "cell_type": "code",
   "execution_count": 22,
   "id": "6712bc9d",
   "metadata": {
    "execution": {
     "iopub.execute_input": "2021-11-21T16:29:49.932779Z",
     "iopub.status.busy": "2021-11-21T16:29:49.932062Z",
     "iopub.status.idle": "2021-11-21T16:29:49.944047Z",
     "shell.execute_reply": "2021-11-21T16:29:49.944590Z",
     "shell.execute_reply.started": "2021-11-21T16:29:17.239611Z"
    },
    "papermill": {
     "duration": 0.04997,
     "end_time": "2021-11-21T16:29:49.944765",
     "exception": false,
     "start_time": "2021-11-21T16:29:49.894795",
     "status": "completed"
    },
    "tags": []
   },
   "outputs": [
    {
     "name": "stdout",
     "output_type": "stream",
     "text": [
      "     PassengerId  Survived\n",
      "0            892         0\n",
      "1            893         0\n",
      "2            894         0\n",
      "3            895         0\n",
      "4            896         1\n",
      "..           ...       ...\n",
      "413         1305         0\n",
      "414         1306         1\n",
      "415         1307         0\n",
      "416         1308         0\n",
      "417         1309         0\n",
      "\n",
      "[418 rows x 2 columns]\n",
      "Your submission was successfully saved!\n"
     ]
    }
   ],
   "source": [
    "predictions = np.where(test_data['fitted'] > cutoff, 1, 0)\n",
    "output = pd.DataFrame({'PassengerId': test_data.PassengerId, 'Survived': predictions})\n",
    "output.to_csv('submission.csv', index=False)\n",
    "print(output)\n",
    "print(\"Your submission was successfully saved!\")"
   ]
  },
  {
   "cell_type": "code",
   "execution_count": null,
   "id": "acaf27e5",
   "metadata": {
    "papermill": {
     "duration": 0.03455,
     "end_time": "2021-11-21T16:29:50.014266",
     "exception": false,
     "start_time": "2021-11-21T16:29:49.979716",
     "status": "completed"
    },
    "tags": []
   },
   "outputs": [],
   "source": []
  }
 ],
 "metadata": {
  "kernelspec": {
   "display_name": "Python 3",
   "language": "python",
   "name": "python3"
  },
  "language_info": {
   "codemirror_mode": {
    "name": "ipython",
    "version": 3
   },
   "file_extension": ".py",
   "mimetype": "text/x-python",
   "name": "python",
   "nbconvert_exporter": "python",
   "pygments_lexer": "ipython3",
   "version": "3.7.10"
  },
  "papermill": {
   "default_parameters": {},
   "duration": 15.887646,
   "end_time": "2021-11-21T16:29:50.759028",
   "environment_variables": {},
   "exception": null,
   "input_path": "__notebook__.ipynb",
   "output_path": "__notebook__.ipynb",
   "parameters": {},
   "start_time": "2021-11-21T16:29:34.871382",
   "version": "2.3.3"
  }
 },
 "nbformat": 4,
 "nbformat_minor": 5
}
